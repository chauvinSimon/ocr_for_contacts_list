{
 "cells": [
  {
   "cell_type": "code",
   "execution_count": 1,
   "metadata": {},
   "outputs": [],
   "source": [
    "from PIL import Image\n",
    "import pytesseract  # installation on windows: https://www.youtube.com/watch?v=Rb93uLXiTwA\n",
    "import cv2\n",
    "from pprint import pprint\n",
    "import pathlib\n",
    "import json\n",
    "import re"
   ]
  },
  {
   "cell_type": "code",
   "execution_count": 2,
   "metadata": {},
   "outputs": [],
   "source": [
    "def test_crop(file, x, y, h, w):\n",
    "    img = cv2.imread(file)\n",
    "    # print(img.shape)\n",
    "    crop_img = img[y:y+h, x:x+w]\n",
    "    cv2.imshow(\"cropped\", crop_img)\n",
    "    cv2.waitKey(0)\n",
    "\n",
    "def crop_img(img_file, x, y, h, w):\n",
    "    # !hack: need to manually tune these parameters. ok, it is only to be done once\n",
    "    img = cv2.imread(str(img_file))\n",
    "    print(img.shape)\n",
    "    crop_img = img[y:y+h, x:x+w]\n",
    "    cv2.imwrite(\"cropped.png\", crop_img)\n",
    "    # cv2.imshow(\"cropped\", crop_img)\n",
    "    # cv2.waitKey(0)\n",
    "    return crop_img\n",
    "\n",
    "def save_dict_as_json(d, json_file='data.json'):\n",
    "    with open(json_file, 'w') as outfile:\n",
    "        json.dump(d, outfile)\n",
    "\n",
    "import csv\n",
    "def save_dict_to_csv(out_csv, in_dict):\n",
    "    with open(out_csv, 'w') as csv_file:\n",
    "        writer = csv.writer(csv_file)\n",
    "        for key, value in in_dict.items():\n",
    "            writer.writerow([key, value])\n",
    "            \n",
    "def has_good_numbers(str_in):\n",
    "    # !hack: sometimes \"O\" is recognised as \"(\"\n",
    "    str_in = str_in.replace(\"(\", \"0\")\n",
    "    regex0= \"0[0-9]\"\n",
    "    regex1= \"46\"  # Sweden\n",
    "    regex2= \"49\"  # German\n",
    "    regex3= \"33\"  # French\n",
    "    regex4= \"44\"  # Uk\n",
    "    return any(bool(re.search(r, str_in)) for r in [regex0, regex1, regex2, regex3, regex4])\n",
    "\n",
    "def count_numbers(str_in):\n",
    "    return sum(c.isdigit() for c in str_in)\n",
    "\n",
    "def count_alpha(str_in):\n",
    "    return sum(c.isalpha() for c in str_in)\n",
    "\n",
    "def extract_nums_names(text):\n",
    "    names = []\n",
    "    nums = []\n",
    "    lines = text.splitlines()\n",
    "    # lines is like ['name1', '', 'name2', '', '00 33 3 33.33.33 33', '', '(0033 333.33 333']\n",
    "    # hence len(lines) should be divisible by 4 to form (name, num) pairs\n",
    "    # hack!: just ignore the whole pack (this has to be fixed by horizontal OCR, not vertical!)\n",
    "    \"\"\"\n",
    "    if (len(lines)+1) % 4 != 0:\n",
    "        print(\"WARNING: inconsistent number in entries: {}\".format(len(lines)))\n",
    "        print(lines)\n",
    "        return [], []\n",
    "    \"\"\"\n",
    "    # issue: all entry should be separated by \"\". But one entry may also be \"\"\n",
    "    # hack!: try to find two empty lines in a row\n",
    "    previous_is_empty = False\n",
    "    # hack!: start with name column\n",
    "    name_column = True\n",
    "    for line in lines:\n",
    "        if not line:  # empty line\n",
    "            if previous_is_empty:\n",
    "                print(\"PATCH two NULL in a row\")\n",
    "                if name_column:\n",
    "                    names.append(\"NULL\")\n",
    "                else:\n",
    "                    nums.append(\"0000\")\n",
    "                continue\n",
    "            previous_is_empty = True\n",
    "        else:\n",
    "            previous_is_empty = False\n",
    "            # if has_good_numbers(line) and count_numbers(line) > 7:\n",
    "            if count_numbers(line) > 2:  # hack!: sometimes a num is totally mis.recognized and get letters\n",
    "                name_column = False\n",
    "                num = ''.join(filter(lambda x: (x.isdigit() or x==\"+\"), line))\n",
    "                nums.append(num)\n",
    "            elif count_alpha(line) > 2:\n",
    "                name = line.replace(\" \", \"_\")\n",
    "                name = line.replace(\"‘\", \"\")\n",
    "                names.append(name)\n",
    "            else:\n",
    "                if name_column:\n",
    "                    print(\"  save {} as NAME\".format(line))\n",
    "                    names.append(\"NULL\")\n",
    "                else:\n",
    "                    print(\"  save {} as NUM\".format(line))\n",
    "                    nums.append(\"0000\")\n",
    "    if len(names) != len(nums):\n",
    "        print(\"WARNING: len(names)[{}] != len(nums)[{}]\".format(len(names), len(nums)))\n",
    "        print(names)\n",
    "        print(nums)\n",
    "        print(lines)\n",
    "    return names, nums\n",
    "    # !hack: the ocr go through each column independantly. Zipping is therefore dangerous"
   ]
  },
  {
   "cell_type": "code",
   "execution_count": 3,
   "metadata": {},
   "outputs": [],
   "source": [
    "# before looping through all the images, define the cropping parameters\n",
    "# idea is to keep only the space with nums and names\n",
    "\"\"\"\n",
    "x = int(1366/3.4)\n",
    "y = int(768/3.2)\n",
    "h = int(768/1.8)\n",
    "w = int(1366/3)\n",
    "\"\"\"\n",
    "\n",
    "x = int(936/3.4)\n",
    "y = int(526/3.2)\n",
    "h = int(526/1.8)\n",
    "w = int(936/3)\n",
    "img_file = \"data/example_git_hub.PNG\"\n",
    "\n",
    "test_crop(img_file, x, y, h, w)"
   ]
  },
  {
   "cell_type": "code",
   "execution_count": 4,
   "metadata": {},
   "outputs": [
    {
     "name": "stdout",
     "output_type": "stream",
     "text": [
      "working on C:\\Users\\simon\\Documents\\draft\\ocr_for_contact_list\\data\\example_git_hub.png\n",
      "(526, 936, 3)\n"
     ]
    }
   ],
   "source": [
    "counter = 0\n",
    "contacts = {}\n",
    "\n",
    "# define where the images are\n",
    "data_dir = pathlib.Path.cwd()\n",
    "data_dir = pathlib.Path.joinpath(data_dir, \"data\")\n",
    "\n",
    "# define the image format\n",
    "data_pattern = \"example_git_hub.png\"\n",
    "\n",
    "# find all the images\n",
    "for file in data_dir.glob(data_pattern):\n",
    "    print(\"working on {}\".format(file))\n",
    "    counter += 1\n",
    "    cropped_image = crop_img(file, x, y, h, w)\n",
    "    img_for_orc = Image.fromarray(cropped_image)\n",
    "    text = pytesseract.image_to_string(img_for_orc)\n",
    "    names, nums = extract_nums_names(text)\n",
    "    res = dict(zip(names, nums))\n",
    "    # print(len(res))\n",
    "    # pprint(res)\n",
    "    contacts.update(res)"
   ]
  },
  {
   "cell_type": "code",
   "execution_count": 5,
   "metadata": {},
   "outputs": [
    {
     "name": "stdout",
     "output_type": "stream",
     "text": [
      "11 contacts founds in [1] images:\n",
      "{'Commisssire San-Antonio': '01234567899',\n",
      " 'Frangois Fignon home': '01234567893',\n",
      " 'Frangois Fignon perso': '01234567895',\n",
      " 'Frangois Fignon pro': '01234567894',\n",
      " 'Hubert Bonsseur de La Bath': '01234567896',\n",
      " 'Hubert perso': '01234567897',\n",
      " 'Jean Claude DUSS perso': '01234567892',\n",
      " 'Jean Claude DUSS pro': '01234567891',\n",
      " 'Patrick Chirac': '012345678910',\n",
      " 'oss': '01234567898',\n",
      " 'péru': '012345678911'}\n"
     ]
    }
   ],
   "source": [
    "print(\"{} contacts founds in [{}] images:\".format(len(contacts), counter))\n",
    "pprint(contacts)\n",
    "save_dict_as_json(contacts, \"contacts.json\")"
   ]
  },
  {
   "cell_type": "code",
   "execution_count": 6,
   "metadata": {},
   "outputs": [],
   "source": [
    "csv_file = 'contacts.csv'\n",
    "save_dict_to_csv(csv_file, contacts)"
   ]
  },
  {
   "cell_type": "code",
   "execution_count": null,
   "metadata": {},
   "outputs": [],
   "source": []
  }
 ],
 "metadata": {
  "kernelspec": {
   "display_name": "draft",
   "language": "python",
   "name": "draft"
  },
  "language_info": {
   "codemirror_mode": {
    "name": "ipython",
    "version": 3
   },
   "file_extension": ".py",
   "mimetype": "text/x-python",
   "name": "python",
   "nbconvert_exporter": "python",
   "pygments_lexer": "ipython3",
   "version": "3.6.8"
  }
 },
 "nbformat": 4,
 "nbformat_minor": 2
}
